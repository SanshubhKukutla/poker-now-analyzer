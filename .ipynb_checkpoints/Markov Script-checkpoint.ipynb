{
 "cells": [
  {
   "cell_type": "code",
   "execution_count": 7,
   "id": "8cfccc03",
   "metadata": {},
   "outputs": [
    {
     "ename": "TypeError",
     "evalue": "unsupported operand type(s) for /: 'str' and 'str'",
     "output_type": "error",
     "traceback": [
      "\u001b[0;31m---------------------------------------------------------------------------\u001b[0m",
      "\u001b[0;31mTypeError\u001b[0m                                 Traceback (most recent call last)",
      "Cell \u001b[0;32mIn[7], line 41\u001b[0m\n\u001b[1;32m     38\u001b[0m \u001b[38;5;28;01mif\u001b[39;00m \u001b[38;5;18m__name__\u001b[39m \u001b[38;5;241m==\u001b[39m \u001b[38;5;124m\"\u001b[39m\u001b[38;5;124m__main__\u001b[39m\u001b[38;5;124m\"\u001b[39m:\n\u001b[1;32m     39\u001b[0m     \u001b[38;5;66;03m# Read data from your CSV file (replace 'your_data.csv' with the actual file name)\u001b[39;00m\n\u001b[1;32m     40\u001b[0m     csv_file \u001b[38;5;241m=\u001b[39m \u001b[38;5;124m\"\u001b[39m\u001b[38;5;124m/Users/sanshubhkukutla/Documents/projects/PokerBot/poker-now-analyzer/poker_now_log_pglJMTPtFPpicExKgMjCS7nqV.csv\u001b[39m\u001b[38;5;124m\"\u001b[39m\n\u001b[0;32m---> 41\u001b[0m     transition_matrix \u001b[38;5;241m=\u001b[39m build_transition_matrix_from_csv(csv_file)\n\u001b[1;32m     43\u001b[0m     pokerbot_model \u001b[38;5;241m=\u001b[39m PokerHandMarkovModel(transition_matrix)\n\u001b[1;32m     45\u001b[0m     \u001b[38;5;66;03m# Generate a sequence of poker hands starting from High Card\u001b[39;00m\n",
      "Cell \u001b[0;32mIn[7], line 33\u001b[0m, in \u001b[0;36mbuild_transition_matrix_from_csv\u001b[0;34m(csv_file)\u001b[0m\n\u001b[1;32m     31\u001b[0m     total_count \u001b[38;5;241m=\u001b[39m data[hand]\u001b[38;5;241m.\u001b[39msum()\n\u001b[1;32m     32\u001b[0m     \u001b[38;5;28;01mfor\u001b[39;00m next_hand \u001b[38;5;129;01min\u001b[39;00m hands:\n\u001b[0;32m---> 33\u001b[0m         transition_matrix[hand][hands\u001b[38;5;241m.\u001b[39mindex(next_hand)] \u001b[38;5;241m=\u001b[39m data[next_hand]\u001b[38;5;241m.\u001b[39msum() \u001b[38;5;241m/\u001b[39m total_count\n\u001b[1;32m     35\u001b[0m \u001b[38;5;28;01mreturn\u001b[39;00m transition_matrix\n",
      "\u001b[0;31mTypeError\u001b[0m: unsupported operand type(s) for /: 'str' and 'str'"
     ]
    }
   ],
   "source": [
    "import pandas as pd\n",
    "import random\n",
    "\n",
    "class PokerHandMarkovModel:\n",
    "    def __init__(self, transition_matrix):\n",
    "        self.transition_matrix = transition_matrix\n",
    "        self.possible_hands = list(transition_matrix.keys())\n",
    "\n",
    "    def generate_hand_sequence(self, start_hand, num_steps):\n",
    "        sequence = [start_hand]\n",
    "        current_hand = start_hand\n",
    "\n",
    "        for _ in range(num_steps - 1):\n",
    "            next_hand = random.choices(self.possible_hands, weights=self.transition_matrix[current_hand])[0]\n",
    "            sequence.append(next_hand)\n",
    "            current_hand = next_hand\n",
    "\n",
    "        return sequence\n",
    "\n",
    "def build_transition_matrix_from_csv(csv_file):\n",
    "    # Read data from the CSV file\n",
    "    data = pd.read_csv(csv_file)\n",
    "\n",
    "    hands = data.columns.tolist()\n",
    "\n",
    "    # Transition matrix\n",
    "    transition_matrix = {hand: [0] * len(hands) for hand in hands}\n",
    "\n",
    "    # Calculate transition probabilities based on hand frequencies\n",
    "    for hand in hands:\n",
    "        total_count = data[hand].sum()\n",
    "        for next_hand in hands:\n",
    "            transition_matrix[hand][hands.index(next_hand)] = float(data[next_hand].sum()) / total_count\n",
    "\n",
    "    return transition_matrix\n",
    "\n",
    "# Example usage\n",
    "if __name__ == \"__main__\":\n",
    "    # Read data from your CSV file (replace 'your_data.csv' with the actual file name)\n",
    "    csv_file = \"/Users/sanshubhkukutla/Documents/projects/PokerBot/poker-now-analyzer/poker_now_log_pglJMTPtFPpicExKgMjCS7nqV.csv\"\n",
    "    transition_matrix = build_transition_matrix_from_csv(csv_file)\n",
    "\n",
    "    pokerbot_model = PokerHandMarkovModel(transition_matrix)\n",
    "\n",
    "    # Generate a sequence of poker hands starting from High Card\n",
    "    generated_sequence = pokerbot_model.generate_hand_sequence(start_hand=\"High Card\", num_steps=5)\n",
    "    print(\"Generated hand sequence:\", \" -> \".join(generated_sequence))\n"
   ]
  },
  {
   "cell_type": "code",
   "execution_count": null,
   "id": "fa728039",
   "metadata": {},
   "outputs": [],
   "source": []
  }
 ],
 "metadata": {
  "kernelspec": {
   "display_name": "Python 3 (ipykernel)",
   "language": "python",
   "name": "python3"
  },
  "language_info": {
   "codemirror_mode": {
    "name": "ipython",
    "version": 3
   },
   "file_extension": ".py",
   "mimetype": "text/x-python",
   "name": "python",
   "nbconvert_exporter": "python",
   "pygments_lexer": "ipython3",
   "version": "3.11.5"
  }
 },
 "nbformat": 4,
 "nbformat_minor": 5
}
