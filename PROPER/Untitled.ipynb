{
 "cells": [
  {
   "cell_type": "code",
   "execution_count": 3,
   "id": "cdd41c84",
   "metadata": {},
   "outputs": [
    {
     "ename": "ValueError",
     "evalue": "could not convert string to float: 'The player \"sdsada @ pkQwGauQKP\" quits the game with a stack of 0.00.-- ending hand #3 --\"blah blah @ A1MoTs9Gms\" collected 35.60 from pot with A High (combination: A♦, K♠, J♠, 8♦, 6♦)River: K♠, 2♥, 4♥, J♠ [6♦]Turn: K♠, 2♥, 4♥ [J♠]Flop:  [K♠, 2♥, 4♥]\"blah blah @ A1MoTs9Gms\" shows a A♦, 8♦.\"sdsada @ pkQwGauQKP\" shows a 3♦, Q♥.Some players choose to not run it twice.\"sdsada @ pkQwGauQKP\" chooses to not run it twice.Remaining players decide whether to run it twice.\"sdsada @ pkQwGauQKP\" calls 17.80 and go all in\"blah blah @ A1MoTs9Gms\" raises to 17.80\"sdsada @ pkQwGauQKP\" calls 0.20\"blah blah @ A1MoTs9Gms\" posts a big blind of 0.20\"sdsada @ pkQwGauQKP\" posts a small blind of 0.10Your hand is 3♦, Q♥Player stacks: #1 \"sdsada @ pkQwGauQKP\" (17.80) | #2 \"blah blah @ A1MoTs9Gms\" (22.20)-- starting hand #3 (id: ltjusnh7fvnd)  (No Limit Texas Hold\\'em) (dealer: \"sdsada @ pkQwGauQKP\") ---- ending hand #2 --\"sdsada @ pkQwGauQKP\" collected 0.40 from potUncalled bet of 0.20 returned to \"sdsada @ pkQwGauQKP\"\"blah blah @ A1MoTs9Gms\" folds\"sdsada @ pkQwGauQKP\" bets 0.20Flop:  [2♣, 4♠, K♥]\"sdsada @ pkQwGauQKP\" checks\"blah blah @ A1MoTs9Gms\" calls 0.20\"sdsada @ pkQwGauQKP\" posts a big blind of 0.20\"blah blah @ A1MoTs9Gms\" posts a small blind of 0.10Your hand is 8♥, 10♠Player stacks: #1 \"sdsada @ pkQwGauQKP\" (17.60) | #2 \"blah blah @ A1MoTs9Gms\" (22.40)-- starting hand #2 (id: efc8hnirypob)  (No Limit Texas Hold\\'em) (dealer: \"blah blah @ A1MoTs9Gms\") --Undealt cards: 8♠, 2♦, 5♣ [K♣, 3♥]\"sdsada @ pkQwGauQKP\" shows a A♦, J♥.-- ending hand #1 --\"blah blah @ A1MoTs9Gms\" collected 4.80 from potUncalled bet of 1.25 returned to \"blah blah @ A1MoTs9Gms\"\"sdsada @ pkQwGauQKP\" folds\"blah blah @ A1MoTs9Gms\" raises to 3.25\"sdsada @ pkQwGauQKP\" raises to 2.00\"blah blah @ A1MoTs9Gms\" bets 0.75Flop:  [8♠, 2♦, 5♣]\"sdsada @ pkQwGauQKP\" calls 0.40\"blah blah @ A1MoTs9Gms\" raises to 0.40\"sdsada @ pkQwGauQKP\" calls 0.20\"blah blah @ A1MoTs9Gms\" posts a big blind of 0.20\"sdsada @ pkQwGauQKP\" posts a small blind of 0.10Your hand is A♦, J♥Player stacks: #1 \"sdsada @ pkQwGauQKP\" (20.00) | #2 \"blah blah @ A1MoTs9Gms\" (20.00)The player \"blah blah @ A1MoTs9Gms\" joined the game with a stack of 20.00.The player \"sdsada @ pkQwGauQKP\" joined the game with a stack of 20.00.-- starting hand #1 (id: qbxagouo218r)  (No Limit Texas Hold\\'em) (dealer: \"sdsada @ pkQwGauQKP\") --The admin approved the player \"blah blah @ A1MoTs9Gms\" participation with a stack of 20.00.The player \"blah blah @ A1MoTs9Gms\" requested a seat.The admin updated the player \"sdsada @ pkQwGauQKP\" stack from 0.20 to 20.00.WARNING: the admin queued the stack change for the player \"sdsada @ pkQwGauQKP\" reseting to 20.00 chips in the next hand.The admin approved the player \"sdsada @ pkQwGauQKP\" participation with a stack of 20.The player \"sdsada @ pkQwGauQKP\" requested a seat.'",
     "output_type": "error",
     "traceback": [
      "\u001b[0;31m---------------------------------------------------------------------------\u001b[0m",
      "\u001b[0;31mValueError\u001b[0m                                Traceback (most recent call last)",
      "Cell \u001b[0;32mIn[3], line 40\u001b[0m\n\u001b[1;32m     37\u001b[0m \u001b[38;5;28;01mif\u001b[39;00m \u001b[38;5;18m__name__\u001b[39m \u001b[38;5;241m==\u001b[39m \u001b[38;5;124m\"\u001b[39m\u001b[38;5;124m__main__\u001b[39m\u001b[38;5;124m\"\u001b[39m:\n\u001b[1;32m     38\u001b[0m     \u001b[38;5;66;03m# Read data from CSV\u001b[39;00m\n\u001b[1;32m     39\u001b[0m     csv_file \u001b[38;5;241m=\u001b[39m \u001b[38;5;124m\"\u001b[39m\u001b[38;5;124m/Users/sanshubhkukutla/Documents/projects/PokerBot/poker-now-analyzer/TestData.csv\u001b[39m\u001b[38;5;124m\"\u001b[39m\n\u001b[0;32m---> 40\u001b[0m     transition_matrix \u001b[38;5;241m=\u001b[39m build_transition_matrix_from_csv(csv_file)\n\u001b[1;32m     42\u001b[0m     pokerbot_model \u001b[38;5;241m=\u001b[39m PokerHandMarkovModel(transition_matrix)\n\u001b[1;32m     44\u001b[0m     \u001b[38;5;66;03m# Generate a sequence of poker hands starting from High Card\u001b[39;00m\n",
      "Cell \u001b[0;32mIn[3], line 33\u001b[0m, in \u001b[0;36mbuild_transition_matrix_from_csv\u001b[0;34m(csv_file)\u001b[0m\n\u001b[1;32m     31\u001b[0m     total_count \u001b[38;5;241m=\u001b[39m data[hand]\u001b[38;5;241m.\u001b[39msum()\n\u001b[1;32m     32\u001b[0m     \u001b[38;5;28;01mfor\u001b[39;00m next_hand \u001b[38;5;129;01min\u001b[39;00m hands:\n\u001b[0;32m---> 33\u001b[0m         transition_matrix[hand][hands\u001b[38;5;241m.\u001b[39mindex(next_hand)] \u001b[38;5;241m=\u001b[39m \u001b[38;5;28mfloat\u001b[39m(data[next_hand]\u001b[38;5;241m.\u001b[39msum()) \u001b[38;5;241m/\u001b[39m total_count\n\u001b[1;32m     35\u001b[0m \u001b[38;5;28;01mreturn\u001b[39;00m transition_matrix\n",
      "\u001b[0;31mValueError\u001b[0m: could not convert string to float: 'The player \"sdsada @ pkQwGauQKP\" quits the game with a stack of 0.00.-- ending hand #3 --\"blah blah @ A1MoTs9Gms\" collected 35.60 from pot with A High (combination: A♦, K♠, J♠, 8♦, 6♦)River: K♠, 2♥, 4♥, J♠ [6♦]Turn: K♠, 2♥, 4♥ [J♠]Flop:  [K♠, 2♥, 4♥]\"blah blah @ A1MoTs9Gms\" shows a A♦, 8♦.\"sdsada @ pkQwGauQKP\" shows a 3♦, Q♥.Some players choose to not run it twice.\"sdsada @ pkQwGauQKP\" chooses to not run it twice.Remaining players decide whether to run it twice.\"sdsada @ pkQwGauQKP\" calls 17.80 and go all in\"blah blah @ A1MoTs9Gms\" raises to 17.80\"sdsada @ pkQwGauQKP\" calls 0.20\"blah blah @ A1MoTs9Gms\" posts a big blind of 0.20\"sdsada @ pkQwGauQKP\" posts a small blind of 0.10Your hand is 3♦, Q♥Player stacks: #1 \"sdsada @ pkQwGauQKP\" (17.80) | #2 \"blah blah @ A1MoTs9Gms\" (22.20)-- starting hand #3 (id: ltjusnh7fvnd)  (No Limit Texas Hold\\'em) (dealer: \"sdsada @ pkQwGauQKP\") ---- ending hand #2 --\"sdsada @ pkQwGauQKP\" collected 0.40 from potUncalled bet of 0.20 returned to \"sdsada @ pkQwGauQKP\"\"blah blah @ A1MoTs9Gms\" folds\"sdsada @ pkQwGauQKP\" bets 0.20Flop:  [2♣, 4♠, K♥]\"sdsada @ pkQwGauQKP\" checks\"blah blah @ A1MoTs9Gms\" calls 0.20\"sdsada @ pkQwGauQKP\" posts a big blind of 0.20\"blah blah @ A1MoTs9Gms\" posts a small blind of 0.10Your hand is 8♥, 10♠Player stacks: #1 \"sdsada @ pkQwGauQKP\" (17.60) | #2 \"blah blah @ A1MoTs9Gms\" (22.40)-- starting hand #2 (id: efc8hnirypob)  (No Limit Texas Hold\\'em) (dealer: \"blah blah @ A1MoTs9Gms\") --Undealt cards: 8♠, 2♦, 5♣ [K♣, 3♥]\"sdsada @ pkQwGauQKP\" shows a A♦, J♥.-- ending hand #1 --\"blah blah @ A1MoTs9Gms\" collected 4.80 from potUncalled bet of 1.25 returned to \"blah blah @ A1MoTs9Gms\"\"sdsada @ pkQwGauQKP\" folds\"blah blah @ A1MoTs9Gms\" raises to 3.25\"sdsada @ pkQwGauQKP\" raises to 2.00\"blah blah @ A1MoTs9Gms\" bets 0.75Flop:  [8♠, 2♦, 5♣]\"sdsada @ pkQwGauQKP\" calls 0.40\"blah blah @ A1MoTs9Gms\" raises to 0.40\"sdsada @ pkQwGauQKP\" calls 0.20\"blah blah @ A1MoTs9Gms\" posts a big blind of 0.20\"sdsada @ pkQwGauQKP\" posts a small blind of 0.10Your hand is A♦, J♥Player stacks: #1 \"sdsada @ pkQwGauQKP\" (20.00) | #2 \"blah blah @ A1MoTs9Gms\" (20.00)The player \"blah blah @ A1MoTs9Gms\" joined the game with a stack of 20.00.The player \"sdsada @ pkQwGauQKP\" joined the game with a stack of 20.00.-- starting hand #1 (id: qbxagouo218r)  (No Limit Texas Hold\\'em) (dealer: \"sdsada @ pkQwGauQKP\") --The admin approved the player \"blah blah @ A1MoTs9Gms\" participation with a stack of 20.00.The player \"blah blah @ A1MoTs9Gms\" requested a seat.The admin updated the player \"sdsada @ pkQwGauQKP\" stack from 0.20 to 20.00.WARNING: the admin queued the stack change for the player \"sdsada @ pkQwGauQKP\" reseting to 20.00 chips in the next hand.The admin approved the player \"sdsada @ pkQwGauQKP\" participation with a stack of 20.The player \"sdsada @ pkQwGauQKP\" requested a seat.'"
     ]
    }
   ],
   "source": [
    "import pandas as pd\n",
    "import random\n",
    "\n",
    "class PokerHandMarkovModel:\n",
    "    def __init__(self, transition_matrix):\n",
    "        self.transition_matrix = transition_matrix\n",
    "        self.possible_hands = list(transition_matrix.keys())\n",
    "\n",
    "    def generate_hand_sequence(self, start_hand, num_steps):\n",
    "        sequence = [start_hand]\n",
    "        current_hand = start_hand\n",
    "\n",
    "        for _ in range(num_steps - 1):\n",
    "            next_hand = random.choices(self.possible_hands, weights=self.transition_matrix[current_hand])[0]\n",
    "            sequence.append(next_hand)\n",
    "            current_hand = next_hand\n",
    "\n",
    "        return sequence\n",
    "\n",
    "def build_transition_matrix_from_csv(csv_file):\n",
    "    # Read data from the CSV file\n",
    "    data = pd.read_csv(csv_file)\n",
    "\n",
    "    hands = data.columns.tolist()\n",
    "\n",
    "    # Transition matrix\n",
    "    transition_matrix = {hand: [0] * len(hands) for hand in hands}\n",
    "\n",
    "    # Calculate transition probabilities based on hand frequencies\n",
    "    for hand in hands:\n",
    "        total_count = data[hand].sum()\n",
    "        for next_hand in hands:\n",
    "            transition_matrix[hand][hands.index(next_hand)] = float(data[next_hand].sum()) / total_count\n",
    "\n",
    "    return transition_matrix\n",
    "\n",
    "if __name__ == \"__main__\":\n",
    "    # Read data from CSV\n",
    "    csv_file = \"/Users/sanshubhkukutla/Documents/projects/PokerBot/poker-now-analyzer/TestData.csv\"\n",
    "    transition_matrix = build_transition_matrix_from_csv(csv_file)\n",
    "\n",
    "    pokerbot_model = PokerHandMarkovModel(transition_matrix)\n",
    "\n",
    "    # Generate a sequence of poker hands starting from High Card\n",
    "    generated_sequence = pokerbot_model.generate_hand_sequence(start_hand=\"High Card\", num_steps=5)\n",
    "    print(\"Generated hand sequence:\", \" -> \".join(generated_sequence))\n"
   ]
  },
  {
   "cell_type": "code",
   "execution_count": null,
   "id": "4bd9b564",
   "metadata": {},
   "outputs": [],
   "source": []
  }
 ],
 "metadata": {
  "kernelspec": {
   "display_name": "Python 3 (ipykernel)",
   "language": "python",
   "name": "python3"
  },
  "language_info": {
   "codemirror_mode": {
    "name": "ipython",
    "version": 3
   },
   "file_extension": ".py",
   "mimetype": "text/x-python",
   "name": "python",
   "nbconvert_exporter": "python",
   "pygments_lexer": "ipython3",
   "version": "3.11.5"
  }
 },
 "nbformat": 4,
 "nbformat_minor": 5
}
